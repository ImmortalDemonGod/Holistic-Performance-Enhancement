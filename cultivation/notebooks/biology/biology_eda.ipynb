{
 "cells": [
  {
   "cell_type": "markdown",
   "id": "60384675",
   "metadata": {},
   "source": [
    "Below is a **step-by-step** guide to working through the early examples (Malthusian and Logistic growth models) in Python. We’ll start with an outline of what we’ll do, then dive into code snippets you can run in a Jupyter notebook (or any Python environment). We’ll gradually build up both **symbolic** (analytical) and **numerical** solutions, plus some basic plots to visualize them."
   ]
  },
  {
   "cell_type": "markdown",
   "id": "cf463169",
   "metadata": {},
   "source": [
    "\n",
    "# 0. Getting Set Up\n",
    "\n",
    "1. **Python environment**: \n",
    "   - If you don’t have a Jupyter environment already, install [Anaconda](https://www.anaconda.com/) or set up a virtual environment with `pip install jupyter sympy numpy scipy matplotlib`.\n",
    "2. **Launch a Jupyter notebook** by running `jupyter notebook` (or `jupyter lab`) in your terminal.\n",
    "3. **Create a new notebook** and start coding!\n"
   ]
  },
  {
   "cell_type": "code",
   "execution_count": 10,
   "id": "1a4e3258",
   "metadata": {},
   "outputs": [
    {
     "name": "stdout",
     "output_type": "stream",
     "text": [
      "Requirement already satisfied: jupyter in /usr/local/python/3.12.1/lib/python3.12/site-packages (1.1.1)\n",
      "Requirement already satisfied: sympy in /home/codespace/.local/lib/python3.12/site-packages (1.13.1)\n",
      "Requirement already satisfied: numpy in /home/codespace/.local/lib/python3.12/site-packages (2.2.0)\n",
      "Requirement already satisfied: scipy in /home/codespace/.local/lib/python3.12/site-packages (1.14.1)\n",
      "Requirement already satisfied: matplotlib in /home/codespace/.local/lib/python3.12/site-packages (3.9.3)\n",
      "Requirement already satisfied: notebook in /usr/local/python/3.12.1/lib/python3.12/site-packages (from jupyter) (7.3.2)\n",
      "Requirement already satisfied: jupyter-console in /usr/local/python/3.12.1/lib/python3.12/site-packages (from jupyter) (6.6.3)\n",
      "Requirement already satisfied: nbconvert in /usr/local/python/3.12.1/lib/python3.12/site-packages (from jupyter) (6.5.0)\n",
      "Requirement already satisfied: ipykernel in /home/codespace/.local/lib/python3.12/site-packages (from jupyter) (6.29.5)\n",
      "Requirement already satisfied: ipywidgets in /usr/local/python/3.12.1/lib/python3.12/site-packages (from jupyter) (8.1.5)\n",
      "Requirement already satisfied: jupyterlab in /usr/local/python/3.12.1/lib/python3.12/site-packages (from jupyter) (4.3.4)\n",
      "Requirement already satisfied: mpmath<1.4,>=1.1.0 in /home/codespace/.local/lib/python3.12/site-packages (from sympy) (1.3.0)\n",
      "Requirement already satisfied: contourpy>=1.0.1 in /home/codespace/.local/lib/python3.12/site-packages (from matplotlib) (1.3.1)\n",
      "Requirement already satisfied: cycler>=0.10 in /home/codespace/.local/lib/python3.12/site-packages (from matplotlib) (0.12.1)\n",
      "Requirement already satisfied: fonttools>=4.22.0 in /home/codespace/.local/lib/python3.12/site-packages (from matplotlib) (4.55.3)\n",
      "Requirement already satisfied: kiwisolver>=1.3.1 in /home/codespace/.local/lib/python3.12/site-packages (from matplotlib) (1.4.7)\n",
      "Requirement already satisfied: packaging>=20.0 in /home/codespace/.local/lib/python3.12/site-packages (from matplotlib) (24.2)\n",
      "Requirement already satisfied: pillow>=8 in /home/codespace/.local/lib/python3.12/site-packages (from matplotlib) (11.0.0)\n",
      "Requirement already satisfied: pyparsing>=2.3.1 in /home/codespace/.local/lib/python3.12/site-packages (from matplotlib) (3.2.0)\n",
      "Requirement already satisfied: python-dateutil>=2.7 in /home/codespace/.local/lib/python3.12/site-packages (from matplotlib) (2.9.0.post0)\n",
      "Requirement already satisfied: six>=1.5 in /home/codespace/.local/lib/python3.12/site-packages (from python-dateutil>=2.7->matplotlib) (1.17.0)\n",
      "Requirement already satisfied: comm>=0.1.1 in /home/codespace/.local/lib/python3.12/site-packages (from ipykernel->jupyter) (0.2.2)\n",
      "Requirement already satisfied: debugpy>=1.6.5 in /home/codespace/.local/lib/python3.12/site-packages (from ipykernel->jupyter) (1.8.9)\n",
      "Requirement already satisfied: ipython>=7.23.1 in /home/codespace/.local/lib/python3.12/site-packages (from ipykernel->jupyter) (8.30.0)\n",
      "Requirement already satisfied: jupyter-client>=6.1.12 in /home/codespace/.local/lib/python3.12/site-packages (from ipykernel->jupyter) (8.6.3)\n",
      "Requirement already satisfied: jupyter-core!=5.0.*,>=4.12 in /home/codespace/.local/lib/python3.12/site-packages (from ipykernel->jupyter) (5.7.2)\n",
      "Requirement already satisfied: matplotlib-inline>=0.1 in /home/codespace/.local/lib/python3.12/site-packages (from ipykernel->jupyter) (0.1.7)\n",
      "Requirement already satisfied: nest-asyncio in /home/codespace/.local/lib/python3.12/site-packages (from ipykernel->jupyter) (1.6.0)\n",
      "Requirement already satisfied: psutil in /home/codespace/.local/lib/python3.12/site-packages (from ipykernel->jupyter) (6.1.0)\n",
      "Requirement already satisfied: pyzmq>=24 in /home/codespace/.local/lib/python3.12/site-packages (from ipykernel->jupyter) (26.2.0)\n",
      "Requirement already satisfied: tornado>=6.1 in /home/codespace/.local/lib/python3.12/site-packages (from ipykernel->jupyter) (6.4.2)\n",
      "Requirement already satisfied: traitlets>=5.4.0 in /home/codespace/.local/lib/python3.12/site-packages (from ipykernel->jupyter) (5.14.3)\n",
      "Requirement already satisfied: widgetsnbextension~=4.0.12 in /usr/local/python/3.12.1/lib/python3.12/site-packages (from ipywidgets->jupyter) (4.0.13)\n",
      "Requirement already satisfied: jupyterlab-widgets~=3.0.12 in /usr/local/python/3.12.1/lib/python3.12/site-packages (from ipywidgets->jupyter) (3.0.13)\n",
      "Requirement already satisfied: prompt-toolkit>=3.0.30 in /home/codespace/.local/lib/python3.12/site-packages (from jupyter-console->jupyter) (3.0.48)\n",
      "Requirement already satisfied: pygments in /home/codespace/.local/lib/python3.12/site-packages (from jupyter-console->jupyter) (2.18.0)\n",
      "Requirement already satisfied: async-lru>=1.0.0 in /home/codespace/.local/lib/python3.12/site-packages (from jupyterlab->jupyter) (2.0.4)\n",
      "Requirement already satisfied: httpx>=0.25.0 in /home/codespace/.local/lib/python3.12/site-packages (from jupyterlab->jupyter) (0.28.1)\n",
      "Requirement already satisfied: jinja2>=3.0.3 in /home/codespace/.local/lib/python3.12/site-packages (from jupyterlab->jupyter) (3.1.4)\n",
      "Requirement already satisfied: jupyter-lsp>=2.0.0 in /home/codespace/.local/lib/python3.12/site-packages (from jupyterlab->jupyter) (2.2.5)\n",
      "Requirement already satisfied: jupyter-server<3,>=2.4.0 in /home/codespace/.local/lib/python3.12/site-packages (from jupyterlab->jupyter) (2.14.2)\n",
      "Requirement already satisfied: jupyterlab-server<3,>=2.27.1 in /home/codespace/.local/lib/python3.12/site-packages (from jupyterlab->jupyter) (2.27.3)\n",
      "Requirement already satisfied: notebook-shim>=0.2 in /home/codespace/.local/lib/python3.12/site-packages (from jupyterlab->jupyter) (0.2.4)\n",
      "Requirement already satisfied: setuptools>=40.8.0 in /home/codespace/.local/lib/python3.12/site-packages (from jupyterlab->jupyter) (75.6.0)\n",
      "Requirement already satisfied: beautifulsoup4 in /usr/local/python/3.12.1/lib/python3.12/site-packages (from nbconvert->jupyter) (4.11.1)\n",
      "Requirement already satisfied: bleach in /home/codespace/.local/lib/python3.12/site-packages (from nbconvert->jupyter) (6.2.0)\n",
      "Requirement already satisfied: defusedxml in /home/codespace/.local/lib/python3.12/site-packages (from nbconvert->jupyter) (0.7.1)\n",
      "Requirement already satisfied: entrypoints>=0.2.2 in /usr/local/python/3.12.1/lib/python3.12/site-packages (from nbconvert->jupyter) (0.4)\n",
      "Requirement already satisfied: jupyterlab-pygments in /home/codespace/.local/lib/python3.12/site-packages (from nbconvert->jupyter) (0.3.0)\n",
      "Requirement already satisfied: MarkupSafe>=2.0 in /home/codespace/.local/lib/python3.12/site-packages (from nbconvert->jupyter) (3.0.2)\n",
      "Requirement already satisfied: mistune<2,>=0.8.1 in /usr/local/python/3.12.1/lib/python3.12/site-packages (from nbconvert->jupyter) (0.8.4)\n",
      "Requirement already satisfied: nbclient>=0.5.0 in /home/codespace/.local/lib/python3.12/site-packages (from nbconvert->jupyter) (0.10.1)\n",
      "Requirement already satisfied: nbformat>=5.1 in /usr/local/python/3.12.1/lib/python3.12/site-packages (from nbconvert->jupyter) (5.4.0)\n",
      "Requirement already satisfied: pandocfilters>=1.4.1 in /home/codespace/.local/lib/python3.12/site-packages (from nbconvert->jupyter) (1.5.1)\n",
      "Requirement already satisfied: tinycss2 in /home/codespace/.local/lib/python3.12/site-packages (from nbconvert->jupyter) (1.4.0)\n",
      "Requirement already satisfied: anyio in /home/codespace/.local/lib/python3.12/site-packages (from httpx>=0.25.0->jupyterlab->jupyter) (4.7.0)\n",
      "Requirement already satisfied: certifi in /home/codespace/.local/lib/python3.12/site-packages (from httpx>=0.25.0->jupyterlab->jupyter) (2024.8.30)\n",
      "Requirement already satisfied: httpcore==1.* in /home/codespace/.local/lib/python3.12/site-packages (from httpx>=0.25.0->jupyterlab->jupyter) (1.0.7)\n",
      "Requirement already satisfied: idna in /home/codespace/.local/lib/python3.12/site-packages (from httpx>=0.25.0->jupyterlab->jupyter) (3.10)\n",
      "Requirement already satisfied: h11<0.15,>=0.13 in /home/codespace/.local/lib/python3.12/site-packages (from httpcore==1.*->httpx>=0.25.0->jupyterlab->jupyter) (0.14.0)\n",
      "Requirement already satisfied: decorator in /home/codespace/.local/lib/python3.12/site-packages (from ipython>=7.23.1->ipykernel->jupyter) (5.1.1)\n",
      "Requirement already satisfied: jedi>=0.16 in /home/codespace/.local/lib/python3.12/site-packages (from ipython>=7.23.1->ipykernel->jupyter) (0.19.2)\n",
      "Requirement already satisfied: pexpect>4.3 in /home/codespace/.local/lib/python3.12/site-packages (from ipython>=7.23.1->ipykernel->jupyter) (4.9.0)\n",
      "Requirement already satisfied: stack_data in /home/codespace/.local/lib/python3.12/site-packages (from ipython>=7.23.1->ipykernel->jupyter) (0.6.3)\n",
      "Requirement already satisfied: platformdirs>=2.5 in /home/codespace/.local/lib/python3.12/site-packages (from jupyter-core!=5.0.*,>=4.12->ipykernel->jupyter) (4.3.6)\n",
      "Requirement already satisfied: argon2-cffi>=21.1 in /home/codespace/.local/lib/python3.12/site-packages (from jupyter-server<3,>=2.4.0->jupyterlab->jupyter) (23.1.0)\n",
      "Requirement already satisfied: jupyter-events>=0.9.0 in /home/codespace/.local/lib/python3.12/site-packages (from jupyter-server<3,>=2.4.0->jupyterlab->jupyter) (0.10.0)\n",
      "Requirement already satisfied: jupyter-server-terminals>=0.4.4 in /home/codespace/.local/lib/python3.12/site-packages (from jupyter-server<3,>=2.4.0->jupyterlab->jupyter) (0.5.3)\n",
      "Requirement already satisfied: overrides>=5.0 in /home/codespace/.local/lib/python3.12/site-packages (from jupyter-server<3,>=2.4.0->jupyterlab->jupyter) (7.7.0)\n",
      "Requirement already satisfied: prometheus-client>=0.9 in /home/codespace/.local/lib/python3.12/site-packages (from jupyter-server<3,>=2.4.0->jupyterlab->jupyter) (0.21.1)\n",
      "Requirement already satisfied: send2trash>=1.8.2 in /home/codespace/.local/lib/python3.12/site-packages (from jupyter-server<3,>=2.4.0->jupyterlab->jupyter) (1.8.3)\n",
      "Requirement already satisfied: terminado>=0.8.3 in /home/codespace/.local/lib/python3.12/site-packages (from jupyter-server<3,>=2.4.0->jupyterlab->jupyter) (0.18.1)\n",
      "Requirement already satisfied: websocket-client>=1.7 in /home/codespace/.local/lib/python3.12/site-packages (from jupyter-server<3,>=2.4.0->jupyterlab->jupyter) (1.8.0)\n",
      "Requirement already satisfied: babel>=2.10 in /home/codespace/.local/lib/python3.12/site-packages (from jupyterlab-server<3,>=2.27.1->jupyterlab->jupyter) (2.16.0)\n",
      "Requirement already satisfied: json5>=0.9.0 in /home/codespace/.local/lib/python3.12/site-packages (from jupyterlab-server<3,>=2.27.1->jupyterlab->jupyter) (0.10.0)\n",
      "Requirement already satisfied: jsonschema>=4.18.0 in /home/codespace/.local/lib/python3.12/site-packages (from jupyterlab-server<3,>=2.27.1->jupyterlab->jupyter) (4.23.0)\n",
      "Requirement already satisfied: requests>=2.31 in /usr/local/python/3.12.1/lib/python3.12/site-packages (from jupyterlab-server<3,>=2.27.1->jupyterlab->jupyter) (2.32.3)\n",
      "Requirement already satisfied: fastjsonschema in /home/codespace/.local/lib/python3.12/site-packages (from nbformat>=5.1->nbconvert->jupyter) (2.21.1)\n",
      "Requirement already satisfied: wcwidth in /home/codespace/.local/lib/python3.12/site-packages (from prompt-toolkit>=3.0.30->jupyter-console->jupyter) (0.2.13)\n",
      "Requirement already satisfied: soupsieve>1.2 in /home/codespace/.local/lib/python3.12/site-packages (from beautifulsoup4->nbconvert->jupyter) (2.6)\n",
      "Requirement already satisfied: webencodings in /home/codespace/.local/lib/python3.12/site-packages (from bleach->nbconvert->jupyter) (0.5.1)\n",
      "Requirement already satisfied: sniffio>=1.1 in /home/codespace/.local/lib/python3.12/site-packages (from anyio->httpx>=0.25.0->jupyterlab->jupyter) (1.3.1)\n",
      "Requirement already satisfied: typing_extensions>=4.5 in /home/codespace/.local/lib/python3.12/site-packages (from anyio->httpx>=0.25.0->jupyterlab->jupyter) (4.12.2)\n",
      "Requirement already satisfied: argon2-cffi-bindings in /home/codespace/.local/lib/python3.12/site-packages (from argon2-cffi>=21.1->jupyter-server<3,>=2.4.0->jupyterlab->jupyter) (21.2.0)\n",
      "Requirement already satisfied: parso<0.9.0,>=0.8.4 in /home/codespace/.local/lib/python3.12/site-packages (from jedi>=0.16->ipython>=7.23.1->ipykernel->jupyter) (0.8.4)\n",
      "Requirement already satisfied: attrs>=22.2.0 in /home/codespace/.local/lib/python3.12/site-packages (from jsonschema>=4.18.0->jupyterlab-server<3,>=2.27.1->jupyterlab->jupyter) (24.2.0)\n",
      "Requirement already satisfied: jsonschema-specifications>=2023.03.6 in /home/codespace/.local/lib/python3.12/site-packages (from jsonschema>=4.18.0->jupyterlab-server<3,>=2.27.1->jupyterlab->jupyter) (2024.10.1)\n",
      "Requirement already satisfied: referencing>=0.28.4 in /home/codespace/.local/lib/python3.12/site-packages (from jsonschema>=4.18.0->jupyterlab-server<3,>=2.27.1->jupyterlab->jupyter) (0.35.1)\n",
      "Requirement already satisfied: rpds-py>=0.7.1 in /home/codespace/.local/lib/python3.12/site-packages (from jsonschema>=4.18.0->jupyterlab-server<3,>=2.27.1->jupyterlab->jupyter) (0.22.3)\n",
      "Requirement already satisfied: python-json-logger>=2.0.4 in /home/codespace/.local/lib/python3.12/site-packages (from jupyter-events>=0.9.0->jupyter-server<3,>=2.4.0->jupyterlab->jupyter) (3.2.0)\n",
      "Requirement already satisfied: pyyaml>=5.3 in /home/codespace/.local/lib/python3.12/site-packages (from jupyter-events>=0.9.0->jupyter-server<3,>=2.4.0->jupyterlab->jupyter) (6.0.2)\n",
      "Requirement already satisfied: rfc3339-validator in /home/codespace/.local/lib/python3.12/site-packages (from jupyter-events>=0.9.0->jupyter-server<3,>=2.4.0->jupyterlab->jupyter) (0.1.4)\n",
      "Requirement already satisfied: rfc3986-validator>=0.1.1 in /home/codespace/.local/lib/python3.12/site-packages (from jupyter-events>=0.9.0->jupyter-server<3,>=2.4.0->jupyterlab->jupyter) (0.1.1)\n",
      "Requirement already satisfied: ptyprocess>=0.5 in /home/codespace/.local/lib/python3.12/site-packages (from pexpect>4.3->ipython>=7.23.1->ipykernel->jupyter) (0.7.0)\n",
      "Requirement already satisfied: charset-normalizer<4,>=2 in /usr/local/python/3.12.1/lib/python3.12/site-packages (from requests>=2.31->jupyterlab-server<3,>=2.27.1->jupyterlab->jupyter) (2.0.12)\n",
      "Requirement already satisfied: urllib3<3,>=1.21.1 in /usr/local/python/3.12.1/lib/python3.12/site-packages (from requests>=2.31->jupyterlab-server<3,>=2.27.1->jupyterlab->jupyter) (1.26.20)\n",
      "Requirement already satisfied: executing>=1.2.0 in /home/codespace/.local/lib/python3.12/site-packages (from stack_data->ipython>=7.23.1->ipykernel->jupyter) (2.1.0)\n",
      "Requirement already satisfied: asttokens>=2.1.0 in /home/codespace/.local/lib/python3.12/site-packages (from stack_data->ipython>=7.23.1->ipykernel->jupyter) (3.0.0)\n",
      "Requirement already satisfied: pure-eval in /home/codespace/.local/lib/python3.12/site-packages (from stack_data->ipython>=7.23.1->ipykernel->jupyter) (0.2.3)\n",
      "Requirement already satisfied: fqdn in /home/codespace/.local/lib/python3.12/site-packages (from jsonschema[format-nongpl]>=4.18.0->jupyter-events>=0.9.0->jupyter-server<3,>=2.4.0->jupyterlab->jupyter) (1.5.1)\n",
      "Requirement already satisfied: isoduration in /home/codespace/.local/lib/python3.12/site-packages (from jsonschema[format-nongpl]>=4.18.0->jupyter-events>=0.9.0->jupyter-server<3,>=2.4.0->jupyterlab->jupyter) (20.11.0)\n",
      "Requirement already satisfied: jsonpointer>1.13 in /home/codespace/.local/lib/python3.12/site-packages (from jsonschema[format-nongpl]>=4.18.0->jupyter-events>=0.9.0->jupyter-server<3,>=2.4.0->jupyterlab->jupyter) (3.0.0)\n",
      "Requirement already satisfied: uri-template in /home/codespace/.local/lib/python3.12/site-packages (from jsonschema[format-nongpl]>=4.18.0->jupyter-events>=0.9.0->jupyter-server<3,>=2.4.0->jupyterlab->jupyter) (1.3.0)\n",
      "Requirement already satisfied: webcolors>=24.6.0 in /home/codespace/.local/lib/python3.12/site-packages (from jsonschema[format-nongpl]>=4.18.0->jupyter-events>=0.9.0->jupyter-server<3,>=2.4.0->jupyterlab->jupyter) (24.11.1)\n",
      "Requirement already satisfied: cffi>=1.0.1 in /home/codespace/.local/lib/python3.12/site-packages (from argon2-cffi-bindings->argon2-cffi>=21.1->jupyter-server<3,>=2.4.0->jupyterlab->jupyter) (1.17.1)\n",
      "Requirement already satisfied: pycparser in /home/codespace/.local/lib/python3.12/site-packages (from cffi>=1.0.1->argon2-cffi-bindings->argon2-cffi>=21.1->jupyter-server<3,>=2.4.0->jupyterlab->jupyter) (2.22)\n",
      "Requirement already satisfied: arrow>=0.15.0 in /home/codespace/.local/lib/python3.12/site-packages (from isoduration->jsonschema[format-nongpl]>=4.18.0->jupyter-events>=0.9.0->jupyter-server<3,>=2.4.0->jupyterlab->jupyter) (1.3.0)\n",
      "Requirement already satisfied: types-python-dateutil>=2.8.10 in /home/codespace/.local/lib/python3.12/site-packages (from arrow>=0.15.0->isoduration->jsonschema[format-nongpl]>=4.18.0->jupyter-events>=0.9.0->jupyter-server<3,>=2.4.0->jupyterlab->jupyter) (2.9.0.20241206)\n"
     ]
    }
   ],
   "source": [
    "!pip install jupyter sympy numpy scipy matplotlib"
   ]
  },
  {
   "cell_type": "markdown",
   "id": "41b66d6d",
   "metadata": {},
   "source": [
    "\n",
    "# 1. Malthusian Model\n",
    "\n",
    "The **Malthusian** (exponential growth/decay) model is\n",
    "\n",
    "\\[\n",
    "\\frac{dN}{dt} \\;=\\; r \\, N(t),\n",
    "\\]\n",
    "\n",
    "where:\n",
    "- \\(N(t)\\) is the population at time \\(t\\).\n",
    "- \\(r\\) is the intrinsic growth rate (if \\(r>0\\), the population grows exponentially; if \\(r<0\\), it decays).\n",
    "\n",
    "## 1.1 Symbolic Analysis (using Sympy)\n",
    "\n",
    "Let’s symbolically solve this ODE:\n",
    "\n",
    "\\[\n",
    "\\frac{dN}{dt} = rN \n",
    "\\quad \\Longrightarrow \\quad\n",
    "N(t) = N_0 \\, e^{r t}.\n",
    "\\]\n",
    "\n",
    "In Python/Sympy, we can do:\n",
    "\n",
    "- `ics={N.subs(t,0): sympy.Symbol('N0')}` tells Sympy that \\(N(0)=N_0\\).  \n",
    "- The output should be something like \\(N(t) = N0 \\exp(r \\, t)\\).\n",
    "\n",
    "### Interpreting the Solution\n",
    "\n",
    "- If \\(r>0\\), solution **grows** without bound (\\(e^{rt}\\)).\n",
    "- If \\(r<0\\), solution **decays** to 0 as \\(t \\to \\infty\\).\n",
    "- No equilibrium other than \\(N=0\\), which is stable if \\(r<0\\) and unstable if \\(r>0\\)."
   ]
  },
  {
   "cell_type": "code",
   "execution_count": 11,
   "id": "9012fdd0",
   "metadata": {},
   "outputs": [
    {
     "name": "stdout",
     "output_type": "stream",
     "text": [
      "Eq(Derivative(N(t), t), r*N(t))\n"
     ]
    },
    {
     "data": {
      "text/latex": [
       "$\\displaystyle N{\\left(t \\right)} = N_{0} e^{r t}$"
      ],
      "text/plain": [
       "Eq(N(t), N0*exp(r*t))"
      ]
     },
     "execution_count": 11,
     "metadata": {},
     "output_type": "execute_result"
    }
   ],
   "source": [
    "import sympy\n",
    "from sympy import symbols, Function, dsolve, Eq, diff\n",
    "\n",
    "# Define the symbols\n",
    "t = symbols('t', real=True, nonnegative=True)\n",
    "r = symbols('r', real=True)\n",
    "N = Function('N')(t)\n",
    "\n",
    "# Define the ODE: dN/dt = r*N\n",
    "ode_malthus = Eq(diff(N, t), r*N)\n",
    "print(ode_malthus)\n",
    "\n",
    "# Solve symbolically\n",
    "sol_malthus = dsolve(ode_malthus, ics={N.subs(t, 0): sympy.Symbol('N0')})\n",
    "sol_malthus\n"
   ]
  },
  {
   "cell_type": "markdown",
   "id": "76c198c3",
   "metadata": {},
   "source": [
    "\n",
    "## 1.2 Numerical Simulation & Plot\n",
    "\n",
    "Let’s do a quick numerical example with `odeint` from `scipy.integrate`. We’ll pick \\(r=0.5\\) per day, say, and \\(N(0)=10\\).\n",
    "\n",
    "\n",
    "- You’ll see an exponential curve if \\(r_val>0\\).  \n",
    "- Try setting `r_val = -0.5` to see a decay.\n"
   ]
  },
  {
   "cell_type": "code",
   "execution_count": 12,
   "id": "491540f7",
   "metadata": {},
   "outputs": [
    {
     "data": {
      "image/png": "[encoded data removed]",
      "text/plain": [
       "<Figure size 700x400 with 1 Axes>"
      ]
     },
     "metadata": {},
     "output_type": "display_data"
    }
   ],
   "source": [
    "import numpy as np\n",
    "import matplotlib.pyplot as plt\n",
    "from scipy.integrate import odeint\n",
    "\n",
    "# Malthusian ODE as a Python function\n",
    "def malthusian_deriv(N, t, r):\n",
    "    return r * N\n",
    "\n",
    "# Parameters\n",
    "r_val = 0.5\n",
    "N0 = 10.0\n",
    "t_vals = np.linspace(0, 10, 100)  # time from 0 to 10 days\n",
    "\n",
    "# Integrate\n",
    "sol = odeint(malthusian_deriv, N0, t_vals, args=(r_val,))\n",
    "\n",
    "# Plot\n",
    "plt.figure(figsize=(7,4))\n",
    "plt.plot(t_vals, sol, label='Malthusian growth')\n",
    "plt.title(\"Malthusian Model: dN/dt = rN\")\n",
    "plt.xlabel(\"Time\")\n",
    "plt.ylabel(\"Population N(t)\")\n",
    "plt.legend()\n",
    "plt.grid(True)\n",
    "plt.show()"
   ]
  },
  {
   "cell_type": "markdown",
   "id": "2a89e582",
   "metadata": {},
   "source": [
    "# 2. Logistic Growth\n",
    "\n",
    "The **Logistic** model (Verhulst 1838) is:\n",
    "\n",
    "\\[\n",
    "\\frac{dN}{dt} \\;=\\; r \\, N(t)\\,\\Bigl(1 - \\frac{N(t)}{K}\\Bigr),\n",
    "\\]\n",
    "\n",
    "where:\n",
    "- \\(K\\) is the **carrying capacity**.\n",
    "- \\(r\\) is still the intrinsic growth rate.\n",
    "\n",
    "## 2.1 Steady States & Stability\n",
    "\n",
    "1. **Steady states** occur when \\(dN/dt = 0\\), i.e. \\(N = 0\\) or \\(N = K\\).\n",
    "2. **Stability**:\n",
    "   - At \\(N^*=0\\): if you take a small perturbation, the derivative near 0 is \\(f'(0) = r(1 - 0/K) = r\\). \n",
    "     - If \\(r>0\\), \\(f'(0)>0\\)\\(\\to\\) **unstable**.\n",
    "   - At \\(N^*=K\\): derivative near \\(K\\) is \\(f'(K) = r(1 - 2K/K) = -r\\). \n",
    "     - If \\(r>0\\), \\(f'(K)<0\\)\\(\\to\\) **stable**.\n",
    "\n",
    "Hence, the population **tends** to grow from any positive initial condition \\(N_0\\) and approach \\(K\\) (assuming \\(r>0\\)).\n",
    "\n",
    "## 2.2 Symbolic Solution\n",
    "\n",
    "We know the well-known logistic solution:\n",
    "\n",
    "\\[\n",
    "N(t) = \\frac{K}{\\;1 + \\Bigl(\\frac{K}{N_0}-1\\Bigr) e^{-r t}}.\n",
    "\\]\n",
    "\n",
    "But let’s see how Sympy does it:\n",
    "\n",
    "\n",
    "Sympy will return a solution that you can interpret, but you’ll have a constant of integration. You can then apply the initial condition \\(N(0)=N_0\\) by hand or by specifying `ics` with some numeric placeholders. Sometimes Sympy’s closed-form might look different but is mathematically equivalent to the standard formula."
   ]
  },
  {
   "cell_type": "code",
   "execution_count": 13,
   "id": "bc7028d1",
   "metadata": {},
   "outputs": [
    {
     "data": {
      "text/latex": [
       "$\\displaystyle N{\\left(t \\right)} = \\frac{K e^{C_{1} K + r t}}{e^{C_{1} K + r t} - 1}$"
      ],
      "text/plain": [
       "Eq(N(t), K*exp(C1*K + r*t)/(exp(C1*K + r*t) - 1))"
      ]
     },
     "execution_count": 13,
     "metadata": {},
     "output_type": "execute_result"
    }
   ],
   "source": [
    "t = symbols('t', real=True, nonnegative=True)\n",
    "r, K = symbols('r K', positive=True)\n",
    "N = Function('N')(t)\n",
    "\n",
    "logistic_ode = Eq(diff(N, t), r*N*(1 - N/K))\n",
    "\n",
    "# We can't specify initial condition with K, N0 as direct symbols easily, \n",
    "# so let's just see the general solution:\n",
    "sol_logistic = dsolve(logistic_ode)\n",
    "sol_logistic"
   ]
  },
  {
   "cell_type": "markdown",
   "id": "de0d5241",
   "metadata": {},
   "source": [
    "## Stability Analysis for the Logistic Equation\n",
    "\n",
    "We'll verify the stability of the equilibria \\( N^* = 0 \\) and \\( N^* = K \\) by:\n",
    "\n",
    "1. **Finding equilibria** where \\( f(N) = 0 \\).\n",
    "2. **Evaluating the derivative** \\( f'(N) \\) at each equilibrium.\n",
    "3. **Checking the sign** of \\( f'(N^*) \\) to determine if each equilibrium is stable or unstable.\n"
   ]
  },
  {
   "cell_type": "code",
   "execution_count": 14,
   "id": "faa6c473",
   "metadata": {},
   "outputs": [
    {
     "name": "stdout",
     "output_type": "stream",
     "text": [
      "Logistic ODE: dN/dt = r*N*(1 - N/K)\n",
      "\n",
      "Equilibria: [0, K]\n",
      "\n",
      "At N* = 0: f'(N*) = r\n",
      " -> UNSTABLE\n",
      "\n",
      "At N* = K: f'(N*) = -r\n",
      " -> STABLE\n",
      "\n"
     ]
    }
   ],
   "source": [
    "import sympy\n",
    "from sympy import symbols, Function, diff, Eq, solve\n",
    "\n",
    "# 1. Define symbols and function\n",
    "t = symbols('t', real=True, nonnegative=True)\n",
    "r, K = symbols('r K', positive=True)\n",
    "N = Function('N')(t)\n",
    "\n",
    "f = r*N*(1 - N/K)  # logistic right-hand side\n",
    "\n",
    "# 2. Compute derivative of f wrt N\n",
    "df_dN = diff(f, N)\n",
    "\n",
    "# 3. Solve for equilibria f(N)=0\n",
    "equilibria = solve(Eq(f, 0), N)\n",
    "\n",
    "# 4. Evaluate derivative at each equilibrium to determine stability\n",
    "print(\"Logistic ODE: dN/dt = r*N*(1 - N/K)\\n\")\n",
    "\n",
    "print(f\"Equilibria: {equilibria}\\n\")\n",
    "\n",
    "for eq in equilibria:\n",
    "    dval = df_dN.subs(N, eq)\n",
    "    print(f\"At N* = {eq}: f'(N*) = {dval}\")\n",
    "    if dval < 0:\n",
    "        print(\" -> STABLE\\n\")\n",
    "    elif dval > 0:\n",
    "        print(\" -> UNSTABLE\\n\")\n",
    "    else:\n",
    "        print(\" -> NEUTRAL (dval=0)\\n\")\n"
   ]
  },
  {
   "cell_type": "markdown",
   "id": "4b600d62",
   "metadata": {},
   "source": [
    "\n",
    "\n",
    "\n",
    "## 2.3 Numerical Integration & Plot\n",
    "\n",
    "We’ll do the same approach as before with `odeint`:\n",
    "\n",
    "\n",
    "\n",
    "### Experiments\n",
    "- Try changing \\(N_0\\) (e.g., from 5 to 80) and see how the solution behaves relative to \\(K=50\\).\n",
    "- Try different \\(r\\) values. Big \\(r\\) means the population converges to \\(K\\) quickly.\n",
    "\n",
    "### Observations\n",
    "- **\\(N(t)\\to K\\)** as \\(t\\to \\infty\\) if \\(r>0\\).\n",
    "- If \\(r<0\\), the term \\(\\bigl(1 - \\frac{N}{K}\\bigr)\\) is still negative for large \\(N\\), so the solution decays to 0. (Not the usual logistic scenario, but mathematically possible.)\n"
   ]
  },
  {
   "cell_type": "code",
   "execution_count": 15,
   "id": "f6014fd4",
   "metadata": {},
   "outputs": [
    {
     "data": {
      "image/png": "[encoded data removed]",
      "text/plain": [
       "<Figure size 700x400 with 1 Axes>"
      ]
     },
     "metadata": {},
     "output_type": "display_data"
    }
   ],
   "source": [
    "def logistic_deriv(N, t, r, K):\n",
    "    return r*N*(1 - N/K)\n",
    "\n",
    "# Parameters\n",
    "r_val = 1.0\n",
    "K_val = 50.0\n",
    "N0 = 5.0\n",
    "t_vals = np.linspace(0, 10, 200)\n",
    "\n",
    "# Integrate\n",
    "sol_logistic = odeint(logistic_deriv, N0, t_vals, args=(r_val, K_val))\n",
    "\n",
    "# Plot\n",
    "plt.figure(figsize=(7,4))\n",
    "plt.plot(t_vals, sol_logistic, label='Logistic growth')\n",
    "plt.title(\"Logistic Model: dN/dt = rN(1 - N/K)\")\n",
    "plt.xlabel(\"Time\")\n",
    "plt.ylabel(\"Population N(t)\")\n",
    "plt.grid(True)\n",
    "plt.legend()\n",
    "plt.show()"
   ]
  },
  {
   "cell_type": "markdown",
   "id": "53e37542",
   "metadata": {},
   "source": [
    "\n",
    "---\n",
    "\n",
    "# 3. Key Lessons from Sections 1.1–1.2\n",
    "\n",
    "1. **Malthus vs. Logistic**  \n",
    "   - Malthus: exponential growth/decay. No upper bound.  \n",
    "   - Logistic: introduces *population self-limitation* via carrying capacity \\(K\\).\n",
    "2. **Equilibria**  \n",
    "   - Malthus: equilibrium at \\(N=0\\).  \n",
    "   - Logistic: equilibria at \\(N=0\\) (unstable if \\(r>0\\)) and \\(N=K\\) (stable if \\(r>0\\)).\n",
    "3. **Interpreting \\(r\\) and \\(K\\)**  \n",
    "   - \\(r\\) has units 1/time; it’s a *per capita* growth rate.  \n",
    "   - \\(K\\) is a population size (or density) that environment can sustain.\n",
    "\n",
    "---"
   ]
  },
  {
   "cell_type": "markdown",
   "id": "0e0c788d",
   "metadata": {},
   "source": [
    "# 4. Next Steps Toward More Complex Models\n",
    "\n",
    "We’ve now established how to:\n",
    "1. Use **Sympy** for symbolic solutions of ODEs.\n",
    "2. Use **`odeint`** (SciPy) for numerical simulations.\n",
    "3. Plot the results with **matplotlib**.\n",
    "\n",
    "As we move deeper (Sections 1.2–1.6, up to age-structured PDEs), we’ll build on these same coding steps:\n",
    "\n",
    "1. **Define the model** in Python (the right-hand side of \\(\\frac{dN}{dt}=f(N)\\) or something more complex).\n",
    "2. **Look for equilibria** (sometimes by `sympy.solve(...)`).\n",
    "3. **Check stability** by derivatives at the equilibria or using Jacobians in multi-dimensional cases.\n",
    "4. **Simulate** with `odeint` or specialized PDE/delay solvers.\n",
    "5. **Plot & interpret**.\n",
    "\n",
    "For example, in the next sections you’d look at:\n",
    "- **Spruce Budworm** (adds a predation term).\n",
    "- **Delay Models** (need a DDE solver, like `ddeint` in Python).\n",
    "- **Harvesting** (modify logistic with a harvest term).\n",
    "- **Age-structured PDE** (the Von Foerster equation) requires PDE or method-of-characteristics approach.\n",
    "\n",
    "But the workflow is always: write the equation, pick a solver, interpret.\n"
   ]
  },
  {
   "cell_type": "markdown",
   "id": "098b3ec1",
   "metadata": {},
   "source": [
    "\n",
    "\n",
    "## Wrapping Up\n",
    "\n",
    "This should give you a **hands-on** coding approach for Sections 1.1 (Malthus) and 1.2 (Logistic). Feel free to:\n",
    "\n",
    "- Tweak parameters to see different behaviors.\n",
    "- Compare symbolic and numeric solutions for consistency.\n",
    "- Add random noise to initial conditions, or do parameter sweeps, to explore robustness.\n",
    "\n",
    "Once you’re comfortable, we’ll move on to Section 1.2’s insect outbreak or Section 1.3’s delay equations with the same style: define ODE (or DDE), solve, plot, interpret. Let me know whenever you’re ready to dig into the next example—**that’s** where things get more interesting!"
   ]
  },
  {
   "cell_type": "code",
   "execution_count": null,
   "id": "4a5361d6",
   "metadata": {},
   "outputs": [],
   "source": []
  }
 ],
 "metadata": {
  "kernelspec": {
   "display_name": "Python 3",
   "language": "python",
   "name": "python3"
  },
  "language_info": {
   "name": "python",
   "version": "3.12.1"
  }
 },
 "nbformat": 4,
 "nbformat_minor": 5
}
